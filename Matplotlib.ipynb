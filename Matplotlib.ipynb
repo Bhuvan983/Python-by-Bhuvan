{
  "nbformat": 4,
  "nbformat_minor": 0,
  "metadata": {
    "colab": {
      "name": "Matplotlib.ipynb",
      "provenance": [],
      "collapsed_sections": [],
      "authorship_tag": "ABX9TyONjdVOdUBvpFCp97qph5BS",
      "include_colab_link": true
    },
    "kernelspec": {
      "name": "python3",
      "display_name": "Python 3"
    },
    "language_info": {
      "name": "python"
    }
  },
  "cells": [
    {
      "cell_type": "markdown",
      "metadata": {
        "id": "view-in-github",
        "colab_type": "text"
      },
      "source": [
        "<a href=\"https://colab.research.google.com/github/Bhuvan983/Python-by-Bhuvan/blob/module5/Matplotlib.ipynb\" target=\"_parent\"><img src=\"https://colab.research.google.com/assets/colab-badge.svg\" alt=\"Open In Colab\"/></a>"
      ]
    },
    {
      "cell_type": "code",
      "execution_count": 3,
      "metadata": {
        "colab": {
          "base_uri": "https://localhost:8080/",
          "height": 295
        },
        "id": "OfhEFALp4cif",
        "outputId": "1f12f881-aa1d-49e7-da05-2b39c46a0c84"
      },
      "outputs": [
        {
          "output_type": "display_data",
          "data": {
            "text/plain": [
              "<Figure size 432x288 with 1 Axes>"
            ],
            "image/png": "[encoded data removed]"
          },
          "metadata": {
            "needs_background": "light"
          }
        }
      ],
      "source": [
        "#10th Marks\n",
        "import matplotlib.pyplot as plt\n",
        "import numpy as np\n",
        "x=np.array([\"Maths\",\"Science\",\"SST\",\"Hindi\",\"English\"])\n",
        "y=np.array([95,87,93,84,91])\n",
        "# z=np.array([1,2])\n",
        "plt.bar(x,y,color='g')\n",
        "plt.xlabel(\"Subjects\")\n",
        "plt.ylabel(\"Marks\")\n",
        "plt.title(\"10th Marks\")\n",
        "plt.show()"
      ]
    },
    {
      "cell_type": "code",
      "source": [
        ""
      ],
      "metadata": {
        "id": "XneAN0iW5iK-"
      },
      "execution_count": null,
      "outputs": []
    }
  ]
}